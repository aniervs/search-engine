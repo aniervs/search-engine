{
  "cells": [
    {
      "cell_type": "code",
      "execution_count": 28,
      "metadata": {
        "id": "0CqJ8NLuTokR"
      },
      "outputs": [],
      "source": [
        "%pip install -q wikipedia-api"
      ]
    },
    {
      "cell_type": "code",
      "execution_count": 29,
      "metadata": {
        "id": "1q9iK9FIbiiy"
      },
      "outputs": [],
      "source": [
        "import wikipediaapi\n",
        "import os\n",
        "\n",
        "wiki_wiki = wikipediaapi.Wikipedia(\n",
        "    language='en',\n",
        "    extract_format=wikipediaapi.ExtractFormat.WIKI\n",
        ")"
      ]
    },
    {
      "cell_type": "code",
      "execution_count": 37,
      "metadata": {
        "id": "c-wjC5unVQoQ"
      },
      "outputs": [],
      "source": [
        "def get_pages(page, memo, depth=1):\n",
        "    pages = []\n",
        "    for p in page.categorymembers.values():\n",
        "        if p.title in memo:\n",
        "            continue\n",
        "        memo.add(page.title)\n",
        "        if p.ns == wikipediaapi.Namespace.CATEGORY and depth >= 0:\n",
        "            pages.extend(get_pages(p, memo, depth=depth-1))\n",
        "        elif p.ns == wikipediaapi.Namespace.MAIN:\n",
        "            pages.append(p)\n",
        "    return pages\n",
        "\n",
        "cat = wiki_wiki.page(\"Category:Algorithms\")\n",
        "memo = set()\n",
        "pages = get_pages(cat, memo, 2)"
      ]
    },
    {
      "cell_type": "code",
      "execution_count": 38,
      "metadata": {
        "colab": {
          "base_uri": "https://localhost:8080/"
        },
        "id": "S-Udd4uQxtvz",
        "outputId": "7fbdc6bd-63e7-4947-c486-e136003b732f"
      },
      "outputs": [
        {
          "output_type": "execute_result",
          "data": {
            "text/plain": [
              "(14153,\n",
              " [Spatial ETL (id: ??, ns: 0),\n",
              "  Spatial reference system (id: ??, ns: 0),\n",
              "  SRTM Water Body Data (id: ??, ns: 0),\n",
              "  Suitability analysis (id: ??, ns: 0),\n",
              "  Suitability model (id: ??, ns: 0),\n",
              "  SuperMap (id: ??, ns: 0),\n",
              "  Terralink International (id: ??, ns: 0),\n",
              "  Tiled web map (id: ??, ns: 0),\n",
              "  Toponym resolution (id: ??, ns: 0),\n",
              "  Traditional knowledge GIS (id: ??, ns: 0),\n",
              "  The Truth About Crime (id: ??, ns: 0),\n",
              "  United Nations Spatial Data Infrastructure (id: ??, ns: 0),\n",
              "  Vector Map (id: ??, ns: 0),\n",
              "  Vector overlay (id: ??, ns: 0),\n",
              "  Viewshed analysis (id: ??, ns: 0),\n",
              "  Visualizing Energy Resources Dynamically on the Earth (id: ??, ns: 0),\n",
              "  Web Registry Service (id: ??, ns: 0),\n",
              "  Wikimapia (id: ??, ns: 0),\n",
              "  Intersection (Euclidean geometry) (id: ??, ns: 0),\n",
              "  DE-9IM (id: ??, ns: 0)])"
            ]
          },
          "metadata": {},
          "execution_count": 38
        }
      ],
      "source": [
        "pages = [p for p in pages if not p.title.startswith(\"List of\")]\n",
        "pages = [p for p in pages if not p.title.startswith(\"Lists of\")]\n",
        "pages = [p for p in pages if not p.title.startswith(\"Index of\")]\n",
        "# pages = [p for p in pages if \"Medal\" not in p.title]\n",
        "# pages = [p for p in pages if \"Lectures\" not in p.title]\n",
        "# pages = [p for p in pages if \"Timeline\" not in p.title]\n",
        "len(pages), pages[1000:1000+20]"
      ]
    },
    {
      "cell_type": "code",
      "execution_count": 39,
      "metadata": {
        "id": "8nj94z9t7Cnh"
      },
      "outputs": [],
      "source": [
        "import shutil\n",
        "dst_dir = \"wiki_data\"\n",
        "shutil.rmtree(dst_dir, ignore_errors=True)\n",
        "os.mkdir(dst_dir)\n",
        "\n",
        "title2index = {}\n",
        "for p in pages:\n",
        "    if p.title not in title2index:\n",
        "        title2index[p.title] = len(title2index)\n",
        "\n",
        "with open(os.path.join(dst_dir, \"nodes.txt\"), 'w') as g:\n",
        "    for i, name in title2index.items():\n",
        "        g.write(f'{i}\\t{name}\\n')"
      ]
    },
    {
      "cell_type": "code",
      "execution_count": 44,
      "metadata": {
        "id": "9T1klw5ZlVd9"
      },
      "outputs": [],
      "source": [
        "from tqdm.notebook import tqdm\n",
        "from time import sleep\n",
        "from copy import deepcopy\n",
        "import gc\n",
        "\n",
        "def load_pages(nodes_file):\n",
        "    titles = []\n",
        "    with open(nodes_file) as f:\n",
        "        for line in f:\n",
        "            title, index = line.strip().split('\\t')\n",
        "            index = int(index)\n",
        "            title2index[title] = index\n",
        "            titles.append(line.split('\\t')[0])\n",
        "    pages = []\n",
        "    for title in tqdm(titles, desc='load pages'):\n",
        "        pages.append(wiki_wiki.page(title))\n",
        "    return pages\n",
        "\n",
        "def process_chunk(pages_list, chunk_num, dst_dir, chunk_size=5769):\n",
        "    pages_to_process = pages_list[chunk_num*chunk_size:(chunk_num+1)*chunk_size]\n",
        "    h = open(os.path.join(dst_dir, f\"texts{chunk_num}.txt\"), 'w')\n",
        "    edges = set()\n",
        "    for p in tqdm(pages_to_process, desc=f'process chunk {chunk_num}'):\n",
        "        if p.title not in title2index:\n",
        "            # print(f'WARNING: missing page {p.title}')\n",
        "            continue\n",
        "        for l in p.links.values():\n",
        "            link_title = l.title\n",
        "            if link_title not in title2index:\n",
        "                continue\n",
        "            try:\n",
        "                edges.add((title2index[p.title], title2index[link_title]))\n",
        "            except KeyError:\n",
        "                pass\n",
        "                # print(f'WARNING: key error {p.title}, {link_title}')\n",
        "        h.write(f'= {p.title} =\\n\\n{p.text}\\n\\n')\n",
        "        sleep(0.01)  # max 100 RPS\n",
        "    h.close()\n",
        "\n",
        "    with open(os.path.join(dst_dir, f\"edges{chunk_num}.txt\"), 'w') as f:\n",
        "        for src, dst in edges:\n",
        "            f.write(f'{src}\\t{dst}\\n')\n"
      ]
    },
    {
      "cell_type": "code",
      "execution_count": 45,
      "metadata": {
        "colab": {
          "base_uri": "https://localhost:8080/",
          "height": 77,
          "referenced_widgets": [
            "179bb9f75b6d4fd19a5d295305692f42",
            "722efc9568824f61aae3a1dfa87c9596",
            "698fb7ccb99e402dac5463c14c63f15e",
            "e093f9ff1e00458bb31323a629fe11c1",
            "ad611c97fda34827be1264a2be0f4798",
            "0f46a9dca4d14a30a6d7ef244afd0a43",
            "525c22804f97437ebb6d2aade168c05a",
            "8a6b17d2b39e42eca3eaaaaaea17972f",
            "1e2c6717a9ca48c285e646751673b7da",
            "e54741f1f10646ecaba8f5d70a495cf5",
            "d1e71fbdb4104306a1bcb8ea7b74df6b"
          ]
        },
        "id": "lPwIm1S1-Pn6",
        "outputId": "3148c993-0089-440f-bd97-1bc496715014"
      },
      "outputs": [
        {
          "output_type": "display_data",
          "data": {
            "application/vnd.jupyter.widget-view+json": {
              "model_id": "179bb9f75b6d4fd19a5d295305692f42",
              "version_minor": 0,
              "version_major": 2
            },
            "text/plain": [
              "load pages:   0%|          | 0/11538 [00:00<?, ?it/s]"
            ]
          },
          "metadata": {}
        }
      ],
      "source": [
        "title2index = {}\n",
        "pages = load_pages(\"wiki_data/nodes.txt\")"
      ]
    },
    {
      "cell_type": "code",
      "source": [
        "x = len(pages)\n",
        "\n",
        "print(\"Divisors of\", x, end=\": \")\n",
        "for i in range(2, x):\n",
        "    if x % i == 0:\n",
        "        print(i, end = \" \")"
      ],
      "metadata": {
        "colab": {
          "base_uri": "https://localhost:8080/"
        },
        "id": "S7ps5_3Dv1hj",
        "outputId": "f9a9ba17-d4d9-4947-87c2-902c0ecd83a3"
      },
      "execution_count": 46,
      "outputs": [
        {
          "output_type": "stream",
          "name": "stdout",
          "text": [
            "Divisors of 11538: 2 3 6 9 18 641 1282 1923 3846 5769 "
          ]
        }
      ]
    },
    {
      "cell_type": "code",
      "execution_count": null,
      "metadata": {
        "id": "6PT14C6mCvjk"
      },
      "outputs": [],
      "source": [
        "process_chunk(pages, 0, \"wiki_data\")\n",
        "# process_chunk(pages, 1, \"wiki_data\")"
      ]
    },
    {
      "cell_type": "code",
      "source": [
        ""
      ],
      "metadata": {
        "id": "VWczslbT8XxE"
      },
      "execution_count": null,
      "outputs": []
    }
  ],
  "metadata": {
    "colab": {
      "collapsed_sections": [],
      "name": "wikipedia.ipynb",
      "provenance": []
    },
    "kernelspec": {
      "display_name": "Python 3",
      "name": "python3"
    },
    "language_info": {
      "codemirror_mode": {
        "name": "ipython",
        "version": 3
      },
      "file_extension": ".py",
      "mimetype": "text/x-python",
      "name": "python",
      "nbconvert_exporter": "python",
      "pygments_lexer": "ipython3",
      "version": "3.9.10"
    },
    "widgets": {
      "application/vnd.jupyter.widget-state+json": {
        "179bb9f75b6d4fd19a5d295305692f42": {
          "model_module": "@jupyter-widgets/controls",
          "model_name": "HBoxModel",
          "model_module_version": "1.5.0",
          "state": {
            "_view_name": "HBoxView",
            "_dom_classes": [],
            "_model_name": "HBoxModel",
            "_view_module": "@jupyter-widgets/controls",
            "_model_module_version": "1.5.0",
            "_view_count": null,
            "_view_module_version": "1.5.0",
            "box_style": "",
            "layout": "IPY_MODEL_722efc9568824f61aae3a1dfa87c9596",
            "_model_module": "@jupyter-widgets/controls",
            "children": [
              "IPY_MODEL_698fb7ccb99e402dac5463c14c63f15e",
              "IPY_MODEL_e093f9ff1e00458bb31323a629fe11c1",
              "IPY_MODEL_ad611c97fda34827be1264a2be0f4798"
            ]
          }
        },
        "722efc9568824f61aae3a1dfa87c9596": {
          "model_module": "@jupyter-widgets/base",
          "model_name": "LayoutModel",
          "model_module_version": "1.2.0",
          "state": {
            "_view_name": "LayoutView",
            "grid_template_rows": null,
            "right": null,
            "justify_content": null,
            "_view_module": "@jupyter-widgets/base",
            "overflow": null,
            "_model_module_version": "1.2.0",
            "_view_count": null,
            "flex_flow": null,
            "width": null,
            "min_width": null,
            "border": null,
            "align_items": null,
            "bottom": null,
            "_model_module": "@jupyter-widgets/base",
            "top": null,
            "grid_column": null,
            "overflow_y": null,
            "overflow_x": null,
            "grid_auto_flow": null,
            "grid_area": null,
            "grid_template_columns": null,
            "flex": null,
            "_model_name": "LayoutModel",
            "justify_items": null,
            "grid_row": null,
            "max_height": null,
            "align_content": null,
            "visibility": null,
            "align_self": null,
            "height": null,
            "min_height": null,
            "padding": null,
            "grid_auto_rows": null,
            "grid_gap": null,
            "max_width": null,
            "order": null,
            "_view_module_version": "1.2.0",
            "grid_template_areas": null,
            "object_position": null,
            "object_fit": null,
            "grid_auto_columns": null,
            "margin": null,
            "display": null,
            "left": null
          }
        },
        "698fb7ccb99e402dac5463c14c63f15e": {
          "model_module": "@jupyter-widgets/controls",
          "model_name": "HTMLModel",
          "model_module_version": "1.5.0",
          "state": {
            "_view_name": "HTMLView",
            "style": "IPY_MODEL_0f46a9dca4d14a30a6d7ef244afd0a43",
            "_dom_classes": [],
            "description": "",
            "_model_name": "HTMLModel",
            "placeholder": "​",
            "_view_module": "@jupyter-widgets/controls",
            "_model_module_version": "1.5.0",
            "value": "load pages: 100%",
            "_view_count": null,
            "_view_module_version": "1.5.0",
            "description_tooltip": null,
            "_model_module": "@jupyter-widgets/controls",
            "layout": "IPY_MODEL_525c22804f97437ebb6d2aade168c05a"
          }
        },
        "e093f9ff1e00458bb31323a629fe11c1": {
          "model_module": "@jupyter-widgets/controls",
          "model_name": "FloatProgressModel",
          "model_module_version": "1.5.0",
          "state": {
            "_view_name": "ProgressView",
            "style": "IPY_MODEL_8a6b17d2b39e42eca3eaaaaaea17972f",
            "_dom_classes": [],
            "description": "",
            "_model_name": "FloatProgressModel",
            "bar_style": "success",
            "max": 11538,
            "_view_module": "@jupyter-widgets/controls",
            "_model_module_version": "1.5.0",
            "value": 11538,
            "_view_count": null,
            "_view_module_version": "1.5.0",
            "orientation": "horizontal",
            "min": 0,
            "description_tooltip": null,
            "_model_module": "@jupyter-widgets/controls",
            "layout": "IPY_MODEL_1e2c6717a9ca48c285e646751673b7da"
          }
        },
        "ad611c97fda34827be1264a2be0f4798": {
          "model_module": "@jupyter-widgets/controls",
          "model_name": "HTMLModel",
          "model_module_version": "1.5.0",
          "state": {
            "_view_name": "HTMLView",
            "style": "IPY_MODEL_e54741f1f10646ecaba8f5d70a495cf5",
            "_dom_classes": [],
            "description": "",
            "_model_name": "HTMLModel",
            "placeholder": "​",
            "_view_module": "@jupyter-widgets/controls",
            "_model_module_version": "1.5.0",
            "value": " 11538/11538 [00:00&lt;00:00, 37594.97it/s]",
            "_view_count": null,
            "_view_module_version": "1.5.0",
            "description_tooltip": null,
            "_model_module": "@jupyter-widgets/controls",
            "layout": "IPY_MODEL_d1e71fbdb4104306a1bcb8ea7b74df6b"
          }
        },
        "0f46a9dca4d14a30a6d7ef244afd0a43": {
          "model_module": "@jupyter-widgets/controls",
          "model_name": "DescriptionStyleModel",
          "model_module_version": "1.5.0",
          "state": {
            "_view_name": "StyleView",
            "_model_name": "DescriptionStyleModel",
            "description_width": "",
            "_view_module": "@jupyter-widgets/base",
            "_model_module_version": "1.5.0",
            "_view_count": null,
            "_view_module_version": "1.2.0",
            "_model_module": "@jupyter-widgets/controls"
          }
        },
        "525c22804f97437ebb6d2aade168c05a": {
          "model_module": "@jupyter-widgets/base",
          "model_name": "LayoutModel",
          "model_module_version": "1.2.0",
          "state": {
            "_view_name": "LayoutView",
            "grid_template_rows": null,
            "right": null,
            "justify_content": null,
            "_view_module": "@jupyter-widgets/base",
            "overflow": null,
            "_model_module_version": "1.2.0",
            "_view_count": null,
            "flex_flow": null,
            "width": null,
            "min_width": null,
            "border": null,
            "align_items": null,
            "bottom": null,
            "_model_module": "@jupyter-widgets/base",
            "top": null,
            "grid_column": null,
            "overflow_y": null,
            "overflow_x": null,
            "grid_auto_flow": null,
            "grid_area": null,
            "grid_template_columns": null,
            "flex": null,
            "_model_name": "LayoutModel",
            "justify_items": null,
            "grid_row": null,
            "max_height": null,
            "align_content": null,
            "visibility": null,
            "align_self": null,
            "height": null,
            "min_height": null,
            "padding": null,
            "grid_auto_rows": null,
            "grid_gap": null,
            "max_width": null,
            "order": null,
            "_view_module_version": "1.2.0",
            "grid_template_areas": null,
            "object_position": null,
            "object_fit": null,
            "grid_auto_columns": null,
            "margin": null,
            "display": null,
            "left": null
          }
        },
        "8a6b17d2b39e42eca3eaaaaaea17972f": {
          "model_module": "@jupyter-widgets/controls",
          "model_name": "ProgressStyleModel",
          "model_module_version": "1.5.0",
          "state": {
            "_view_name": "StyleView",
            "_model_name": "ProgressStyleModel",
            "description_width": "",
            "_view_module": "@jupyter-widgets/base",
            "_model_module_version": "1.5.0",
            "_view_count": null,
            "_view_module_version": "1.2.0",
            "bar_color": null,
            "_model_module": "@jupyter-widgets/controls"
          }
        },
        "1e2c6717a9ca48c285e646751673b7da": {
          "model_module": "@jupyter-widgets/base",
          "model_name": "LayoutModel",
          "model_module_version": "1.2.0",
          "state": {
            "_view_name": "LayoutView",
            "grid_template_rows": null,
            "right": null,
            "justify_content": null,
            "_view_module": "@jupyter-widgets/base",
            "overflow": null,
            "_model_module_version": "1.2.0",
            "_view_count": null,
            "flex_flow": null,
            "width": null,
            "min_width": null,
            "border": null,
            "align_items": null,
            "bottom": null,
            "_model_module": "@jupyter-widgets/base",
            "top": null,
            "grid_column": null,
            "overflow_y": null,
            "overflow_x": null,
            "grid_auto_flow": null,
            "grid_area": null,
            "grid_template_columns": null,
            "flex": null,
            "_model_name": "LayoutModel",
            "justify_items": null,
            "grid_row": null,
            "max_height": null,
            "align_content": null,
            "visibility": null,
            "align_self": null,
            "height": null,
            "min_height": null,
            "padding": null,
            "grid_auto_rows": null,
            "grid_gap": null,
            "max_width": null,
            "order": null,
            "_view_module_version": "1.2.0",
            "grid_template_areas": null,
            "object_position": null,
            "object_fit": null,
            "grid_auto_columns": null,
            "margin": null,
            "display": null,
            "left": null
          }
        },
        "e54741f1f10646ecaba8f5d70a495cf5": {
          "model_module": "@jupyter-widgets/controls",
          "model_name": "DescriptionStyleModel",
          "model_module_version": "1.5.0",
          "state": {
            "_view_name": "StyleView",
            "_model_name": "DescriptionStyleModel",
            "description_width": "",
            "_view_module": "@jupyter-widgets/base",
            "_model_module_version": "1.5.0",
            "_view_count": null,
            "_view_module_version": "1.2.0",
            "_model_module": "@jupyter-widgets/controls"
          }
        },
        "d1e71fbdb4104306a1bcb8ea7b74df6b": {
          "model_module": "@jupyter-widgets/base",
          "model_name": "LayoutModel",
          "model_module_version": "1.2.0",
          "state": {
            "_view_name": "LayoutView",
            "grid_template_rows": null,
            "right": null,
            "justify_content": null,
            "_view_module": "@jupyter-widgets/base",
            "overflow": null,
            "_model_module_version": "1.2.0",
            "_view_count": null,
            "flex_flow": null,
            "width": null,
            "min_width": null,
            "border": null,
            "align_items": null,
            "bottom": null,
            "_model_module": "@jupyter-widgets/base",
            "top": null,
            "grid_column": null,
            "overflow_y": null,
            "overflow_x": null,
            "grid_auto_flow": null,
            "grid_area": null,
            "grid_template_columns": null,
            "flex": null,
            "_model_name": "LayoutModel",
            "justify_items": null,
            "grid_row": null,
            "max_height": null,
            "align_content": null,
            "visibility": null,
            "align_self": null,
            "height": null,
            "min_height": null,
            "padding": null,
            "grid_auto_rows": null,
            "grid_gap": null,
            "max_width": null,
            "order": null,
            "_view_module_version": "1.2.0",
            "grid_template_areas": null,
            "object_position": null,
            "object_fit": null,
            "grid_auto_columns": null,
            "margin": null,
            "display": null,
            "left": null
          }
        }
      }
    }
  },
  "nbformat": 4,
  "nbformat_minor": 0
}